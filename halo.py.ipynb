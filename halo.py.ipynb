{
 "cells": [
  {
   "cell_type": "markdown",
   "id": "19b25435",
   "metadata": {},
   "source": [
    "## Tugas Praktikum Metode Komputasi 5"
   ]
  },
  {
   "cell_type": "code",
   "execution_count": 1,
   "id": "f1077796",
   "metadata": {
    "scrolled": true
   },
   "outputs": [
    {
     "name": "stdout",
     "output_type": "stream",
     "text": [
      "Program halo.py\n",
      "by fadiladesnita@mail.ugm.ac.id\n"
     ]
    }
   ],
   "source": [
    "print(\"Program halo.py\")\n",
    "print(\"by fadiladesnita@mail.ugm.ac.id\")"
   ]
  },
  {
   "cell_type": "code",
   "execution_count": null,
   "id": "0139bdcd",
   "metadata": {},
   "outputs": [],
   "source": []
  }
 ],
 "metadata": {
  "kernelspec": {
   "display_name": "Python 3",
   "language": "python",
   "name": "python3"
  },
  "language_info": {
   "codemirror_mode": {
    "name": "ipython",
    "version": 3
   },
   "file_extension": ".py",
   "mimetype": "text/x-python",
   "name": "python",
   "nbconvert_exporter": "python",
   "pygments_lexer": "ipython3",
   "version": "3.8.5"
  }
 },
 "nbformat": 4,
 "nbformat_minor": 5
}
